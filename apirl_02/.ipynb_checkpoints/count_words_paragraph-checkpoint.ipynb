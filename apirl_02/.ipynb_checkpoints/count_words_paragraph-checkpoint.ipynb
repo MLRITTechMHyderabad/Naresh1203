{
 "cells": [
  {
   "cell_type": "code",
   "execution_count": null,
   "id": "f7071020",
   "metadata": {},
   "outputs": [],
   "source": [
    "s=\"The sun slowly set behind the mountains, painting the sky with shades of orange and pink. A gentle breeze rustled the leaves, carrying the scent of fresh flowers. Birds chirped their evening songs as the world prepared for the calm of the night. It was a moment of pure tranquility, a reminder of nature's quiet beauty.\"\n",
    "freq={}        \n",
    "for char in s:\n",
    "  if char in freq:\n",
    "    freq[char]+=1\n",
    "  else:\n",
    "    freq[char]=1\n",
    "print(freq)  "
   ]
  }
 ],
 "metadata": {
  "kernelspec": {
   "display_name": "Python 3 (ipykernel)",
   "language": "python",
   "name": "python3"
  },
  "language_info": {
   "codemirror_mode": {
    "name": "ipython",
    "version": 3
   },
   "file_extension": ".py",
   "mimetype": "text/x-python",
   "name": "python",
   "nbconvert_exporter": "python",
   "pygments_lexer": "ipython3",
   "version": "3.10.9"
  }
 },
 "nbformat": 4,
 "nbformat_minor": 5
}
