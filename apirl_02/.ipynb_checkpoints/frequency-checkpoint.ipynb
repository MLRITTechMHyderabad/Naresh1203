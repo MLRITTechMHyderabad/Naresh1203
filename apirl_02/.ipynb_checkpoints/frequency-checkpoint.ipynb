{
 "cells": [
  {
   "cell_type": "code",
   "execution_count": null,
   "id": "357510cc",
   "metadata": {},
   "outputs": [],
   "source": [
    "li=[1,2,3,3,4,5,6,6,6,5,4,2]\n",
    "freq={}\n",
    "for i in li:\n",
    "    if i in freq:\n",
    "        freq[i]+=1\n",
    "    else:\n",
    "        freq[i]=1\n",
    "print(freq)        \n",
    "        \n",
    "    "
   ]
  }
 ],
 "metadata": {
  "kernelspec": {
   "display_name": "Python 3 (ipykernel)",
   "language": "python",
   "name": "python3"
  },
  "language_info": {
   "codemirror_mode": {
    "name": "ipython",
    "version": 3
   },
   "file_extension": ".py",
   "mimetype": "text/x-python",
   "name": "python",
   "nbconvert_exporter": "python",
   "pygments_lexer": "ipython3",
   "version": "3.10.9"
  }
 },
 "nbformat": 4,
 "nbformat_minor": 5
}
