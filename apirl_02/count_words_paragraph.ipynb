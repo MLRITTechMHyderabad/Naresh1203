{
 "cells": [
  {
   "cell_type": "code",
   "execution_count": 1,
   "id": "8cce6184",
   "metadata": {},
   "outputs": [
    {
     "name": "stdout",
     "output_type": "stream",
     "text": [
      "{'T': 1, 'h': 15, 'e': 36, ' ': 55, 's': 18, 'u': 8, 'n': 20, 'l': 9, 'o': 13, 'w': 5, 'y': 5, 't': 23, 'b': 3, 'i': 16, 'd': 9, 'm': 5, 'a': 16, ',': 3, 'p': 6, 'g': 7, 'k': 2, 'f': 8, 'r': 19, '.': 4, 'A': 1, 'z': 1, 'v': 2, 'c': 4, 'B': 1, 'I': 1, 'q': 2, \"'\": 1}\n"
     ]
    }
   ],
   "source": [
    "s=\"The sun slowly set behind the mountains, painting the sky with shades of orange and pink. A gentle breeze rustled the leaves, carrying the scent of fresh flowers. Birds chirped their evening songs as the world prepared for the calm of the night. It was a moment of pure tranquility, a reminder of nature's quiet beauty.\"\n",
    "freq={}        \n",
    "for char in s:\n",
    "  if char in freq:\n",
    "    freq[char]+=1\n",
    "  else:\n",
    "    freq[char]=1\n",
    "print(freq)  "
   ]
  },
  {
   "cell_type": "code",
   "execution_count": null,
   "id": "6886daf7",
   "metadata": {},
   "outputs": [],
   "source": []
  }
 ],
 "metadata": {
  "kernelspec": {
   "display_name": "Python 3 (ipykernel)",
   "language": "python",
   "name": "python3"
  },
  "language_info": {
   "codemirror_mode": {
    "name": "ipython",
    "version": 3
   },
   "file_extension": ".py",
   "mimetype": "text/x-python",
   "name": "python",
   "nbconvert_exporter": "python",
   "pygments_lexer": "ipython3",
   "version": "3.10.9"
  }
 },
 "nbformat": 4,
 "nbformat_minor": 5
}
