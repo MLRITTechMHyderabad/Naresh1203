{
 "cells": [
  {
   "cell_type": "code",
   "execution_count": 3,
   "id": "1ef1042a",
   "metadata": {},
   "outputs": [
    {
     "name": "stdout",
     "output_type": "stream",
     "text": [
      "2\n",
      "1 2 3 4\n",
      "2 3 4 5\n",
      "Player 1 wins\n"
     ]
    }
   ],
   "source": [
    "d1 = [1, 2, 3, 4, 5, 6]\n",
    "d2 = [1, 2, 3, 4, 5, 6]\n",
    "\n",
    "li = [(i, j) for i in d1 for j in d2]\n",
    "\n",
    "di = {}\n",
    "for i in range(2, 13):\n",
    "    count = sum(1 for j in li if i == j[0] + j[1])\n",
    "    di[str(i)] = count / len(li)\n",
    "\n",
    "def determine_winner(player1_sum, player2_sum):\n",
    "    p1_prob = di[str(player1_sum)]\n",
    "    p2_prob = di[str(player2_sum)]\n",
    "    if p1_prob < p2_prob:\n",
    "        return 1\n",
    "    elif p1_prob > p2_prob:\n",
    "        return 2\n",
    "    else:\n",
    "        return 0\n",
    "\n",
    "def play_game():\n",
    "    R = int(input().strip())\n",
    "    player1_wins = 0\n",
    "    player2_wins = 0\n",
    "    \n",
    "    for _ in range(R):\n",
    "        P1_d1, P1_d2, P2_d1, P2_d2 = map(int, input().strip().split())\n",
    "        player1_sum = P1_d1 + P1_d2\n",
    "        player2_sum = P2_d1 + P2_d2\n",
    "\n",
    "        result = determine_winner(player1_sum, player2_sum)\n",
    "        if result == 1:\n",
    "            player1_wins += 1\n",
    "        elif result == 2:\n",
    "            player2_wins += 1\n",
    "\n",
    "    if player1_wins > player2_wins:\n",
    "        print(\"Player 1 wins\")\n",
    "    elif player2_wins > player1_wins:\n",
    "        print(\"Player 2 wins\")\n",
    "    else:\n",
    "        print(\"It's a draw\")\n",
    "\n",
    "play_game()\n"
   ]
  },
  {
   "cell_type": "code",
   "execution_count": null,
   "id": "66d75539",
   "metadata": {},
   "outputs": [],
   "source": []
  }
 ],
 "metadata": {
  "kernelspec": {
   "display_name": "Python 3 (ipykernel)",
   "language": "python",
   "name": "python3"
  },
  "language_info": {
   "codemirror_mode": {
    "name": "ipython",
    "version": 3
   },
   "file_extension": ".py",
   "mimetype": "text/x-python",
   "name": "python",
   "nbconvert_exporter": "python",
   "pygments_lexer": "ipython3",
   "version": "3.10.9"
  }
 },
 "nbformat": 4,
 "nbformat_minor": 5
}
