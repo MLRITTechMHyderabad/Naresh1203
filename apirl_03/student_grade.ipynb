{
 "cells": [
  {
   "cell_type": "code",
   "execution_count": 2,
   "id": "79256ab9",
   "metadata": {},
   "outputs": [
    {
     "name": "stdout",
     "output_type": "stream",
     "text": [
      "Dictionary of students and their grades:\n",
      "{'Alice': [85, 90, 78, 92], 'Bob': [60, 65, 70, 75], 'Charlie': [40, 45, 50, 55], 'David': [95, 100, 98, 92]}\n",
      "\n",
      "Average grade for Bob:\n",
      "67.5\n",
      "\n",
      "Student with the highest average grade:\n",
      "David\n",
      "\n",
      "Number of students who passed:\n",
      "3\n"
     ]
    }
   ],
   "source": [
    "students = [\n",
    "    (\"Alice\", [85, 90, 78, 92]),\n",
    "    (\"Bob\", [60, 65, 70, 75]),\n",
    "    (\"Charlie\", [40, 45, 50, 55]),\n",
    "    (\"David\", [95, 100, 98, 92])\n",
    "]\n",
    "\n",
    "grades_dict = {student[0]: student[1] for student in students}\n",
    "print(\"Dictionary of students and their grades:\")\n",
    "print(grades_dict)\n",
    "\n",
    "def calculate_average(grades):\n",
    "    return sum(grades) / len(grades)\n",
    "\n",
    "bob_average = calculate_average(grades_dict[\"Bob\"])\n",
    "print(\"\\nAverage grade for Bob:\")\n",
    "print(bob_average)\n",
    "\n",
    "highest_avg_student = \"\"\n",
    "highest_avg = 0\n",
    "\n",
    "for student, grades in grades_dict.items():\n",
    "    avg = calculate_average(grades)\n",
    "    if avg > highest_avg:\n",
    "        highest_avg = avg\n",
    "        highest_avg_student = student\n",
    "\n",
    "print(\"\\nStudent with the highest average grade:\")\n",
    "print(highest_avg_student)\n",
    "\n",
    "passed_students = sum(1 for grades in grades_dict.values() if calculate_average(grades) >= 50)\n",
    "\n",
    "print(\"\\nNumber of students who passed:\")\n",
    "print(passed_students)\n"
   ]
  },
  {
   "cell_type": "code",
   "execution_count": null,
   "id": "278b8883",
   "metadata": {},
   "outputs": [],
   "source": []
  }
 ],
 "metadata": {
  "kernelspec": {
   "display_name": "Python 3 (ipykernel)",
   "language": "python",
   "name": "python3"
  },
  "language_info": {
   "codemirror_mode": {
    "name": "ipython",
    "version": 3
   },
   "file_extension": ".py",
   "mimetype": "text/x-python",
   "name": "python",
   "nbconvert_exporter": "python",
   "pygments_lexer": "ipython3",
   "version": "3.10.9"
  }
 },
 "nbformat": 4,
 "nbformat_minor": 5
}
