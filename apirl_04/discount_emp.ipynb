{
 "cells": [
  {
   "cell_type": "code",
   "execution_count": 1,
   "id": "349c7fd6",
   "metadata": {},
   "outputs": [
    {
     "name": "stdout",
     "output_type": "stream",
     "text": [
      "[{'name': 'Emma', 'age': 22, 'total_purchase': 150.0}]\n",
      "[{'name': 'John', 'age': 30, 'total_purchase': 200.0}]\n"
     ]
    }
   ],
   "source": [
    "customers = [\n",
    " {\"name\": \"Emma\", \"age\": 22, \"total_purchase\": 150.0},\n",
    " {\"name\": \"John\", \"age\": 30, \"total_purchase\": 200.0},\n",
    " {\"name\": \"Grace\", \"age\": 45, \"total_purchase\": 180.0}\n",
    "]\n",
    "\n",
    "\n",
    "new_customers = list(filter(lambda x: 18 <= x[\"age\"] <= 25 and x[\"total_purchase\"] % 10 == 0, customers))\n",
    "print(new_customers)\n",
    "\n",
    "new_customers1 = list(filter(lambda x: 26 <= x[\"age\"] <= 40 and x[\"total_purchase\"] % 5 == 0, customers))\n",
    "print(new_customers1)"
   ]
  },
  {
   "cell_type": "code",
   "execution_count": null,
   "id": "7ecc710b",
   "metadata": {},
   "outputs": [],
   "source": []
  }
 ],
 "metadata": {
  "kernelspec": {
   "display_name": "Python 3 (ipykernel)",
   "language": "python",
   "name": "python3"
  },
  "language_info": {
   "codemirror_mode": {
    "name": "ipython",
    "version": 3
   },
   "file_extension": ".py",
   "mimetype": "text/x-python",
   "name": "python",
   "nbconvert_exporter": "python",
   "pygments_lexer": "ipython3",
   "version": "3.10.9"
  }
 },
 "nbformat": 4,
 "nbformat_minor": 5
}
