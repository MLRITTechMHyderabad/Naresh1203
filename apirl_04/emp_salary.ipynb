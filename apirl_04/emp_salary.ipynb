{
 "cells": [
  {
   "cell_type": "code",
   "execution_count": 1,
   "id": "2146363d",
   "metadata": {},
   "outputs": [
    {
     "name": "stdout",
     "output_type": "stream",
     "text": [
      "before Updation [{'name': 'Alice', 'salary': 50000.0, 'rating': 5}, {'name': 'Bob', 'salary': 40000.0, 'rating': 3}, {'name': 'Charlie', 'salary': 35000.0, 'rating': 2}]\n",
      "The Updated List[{'name': 'Alice', 'salary': 55000.0, 'rating': 5}, {'name': 'Bob', 'salary': 42000.0, 'rating': 3}, {'name': 'Charlie', 'salary': 33950.0, 'rating': 2}]\n"
     ]
    }
   ],
   "source": [
    "\"\"\"For each employee:\n",
    "• If their rating is 4 or 5, increase their salary by 10%.\n",
    "• If their rating is 3, increase their salary by 5%.\n",
    "• If their rating is 1 or 2, decrease their salary by 3%\"\"\"\n",
    "\n",
    "employees = [\n",
    "    {\"name\": \"Alice\", \"salary\": 50000.0, \"rating\": 5},\n",
    "    {\"name\": \"Bob\", \"salary\": 40000.0, \"rating\": 3},\n",
    "    {\"name\": \"Charlie\", \"salary\": 35000.0, \"rating\": 2}\n",
    "]\n",
    "\n",
    "updated_employees = list(map(lambda x:\n",
    "                             {**x, \"salary\":\n",
    "                                round(x[\"salary\"] * (1.10 if x[\"rating\"] >= 4\n",
    "                                    else 1.05 if x[\"rating\"] == 3\n",
    "                                    else 0.97), 2)\n",
    "                            }, employees))\n",
    "print(f\"before Updation {employees}\")\n",
    "print(f\"The Updated List{updated_employees}\")"
   ]
  },
  {
   "cell_type": "code",
   "execution_count": null,
   "id": "c86ae9a8",
   "metadata": {},
   "outputs": [],
   "source": []
  }
 ],
 "metadata": {
  "kernelspec": {
   "display_name": "Python 3 (ipykernel)",
   "language": "python",
   "name": "python3"
  },
  "language_info": {
   "codemirror_mode": {
    "name": "ipython",
    "version": 3
   },
   "file_extension": ".py",
   "mimetype": "text/x-python",
   "name": "python",
   "nbconvert_exporter": "python",
   "pygments_lexer": "ipython3",
   "version": "3.10.9"
  }
 },
 "nbformat": 4,
 "nbformat_minor": 5
}
