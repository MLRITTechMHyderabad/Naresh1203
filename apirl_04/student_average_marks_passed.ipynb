{
 "cells": [
  {
   "cell_type": "code",
   "execution_count": 1,
   "id": "0703b867",
   "metadata": {},
   "outputs": [
    {
     "name": "stdout",
     "output_type": "stream",
     "text": [
      "Bob's average grade: 67.5\n",
      "David\n",
      "Number of passed students: 3\n"
     ]
    },
    {
     "ename": "NameError",
     "evalue": "name 'studnets' is not defined",
     "output_type": "error",
     "traceback": [
      "\u001b[1;31m---------------------------------------------------------------------------\u001b[0m",
      "\u001b[1;31mNameError\u001b[0m                                 Traceback (most recent call last)",
      "Cell \u001b[1;32mIn[1], line 27\u001b[0m\n\u001b[0;32m     21\u001b[0m passed_students_count \u001b[38;5;241m=\u001b[39m \u001b[38;5;28msum\u001b[39m(\n\u001b[0;32m     22\u001b[0m     \u001b[38;5;241m1\u001b[39m \u001b[38;5;28;01mfor\u001b[39;00m name, marks \u001b[38;5;129;01min\u001b[39;00m students_dict\u001b[38;5;241m.\u001b[39mitems() \u001b[38;5;28;01mif\u001b[39;00m \u001b[38;5;28mall\u001b[39m(mark \u001b[38;5;241m>\u001b[39m\u001b[38;5;241m=\u001b[39m \u001b[38;5;241m50\u001b[39m \u001b[38;5;28;01mfor\u001b[39;00m mark \u001b[38;5;129;01min\u001b[39;00m marks)\n\u001b[0;32m     23\u001b[0m )\n\u001b[0;32m     24\u001b[0m \u001b[38;5;28mprint\u001b[39m(\u001b[38;5;124mf\u001b[39m\u001b[38;5;124m\"\u001b[39m\u001b[38;5;124mNumber of passed students: \u001b[39m\u001b[38;5;132;01m{\u001b[39;00mpassed_students_count\u001b[38;5;132;01m}\u001b[39;00m\u001b[38;5;124m\"\u001b[39m)\n\u001b[0;32m     26\u001b[0m passed_count \u001b[38;5;241m=\u001b[39m \u001b[38;5;28msum\u001b[39m(\n\u001b[1;32m---> 27\u001b[0m     \u001b[38;5;241m1\u001b[39m \u001b[38;5;28;01mfor\u001b[39;00m name, marks \u001b[38;5;129;01min\u001b[39;00m \u001b[43mstudnets\u001b[49m\n\u001b[0;32m     28\u001b[0m )\n",
      "\u001b[1;31mNameError\u001b[0m: name 'studnets' is not defined"
     ]
    }
   ],
   "source": [
    "students = [\n",
    "    (\"Alice\", [85, 90, 78, 92]),\n",
    "    (\"Bob\", [60, 65, 70, 75]),\n",
    "    (\"Charlie\", [40, 45, 50, 55]),\n",
    "    (\"David\", [95, 100, 98, 92])\n",
    "]\n",
    "\n",
    "students_dict = dict(students)\n",
    "\n",
    "bob_marks = students_dict[\"Bob\"]\n",
    "average_marks = sum(bob_marks) / len(bob_marks)\n",
    "print(f\"Bob's average grade: {average_marks}\")\n",
    "\n",
    "student_averages = {\n",
    "    name: sum(marks) / len(marks) for name, marks in students_dict.items()\n",
    "}\n",
    "highest_average_name = max(student_averages, key=student_averages.get)\n",
    "highest_average_marks = student_averages[highest_average_name]\n",
    "print(highest_average_name)\n",
    "\n",
    "passed_students_count = sum(\n",
    "    1 for name, marks in students_dict.items() if all(mark >= 50 for mark in marks)\n",
    ")\n",
    "print(f\"Number of passed students: {passed_students_count}\")\n",
    "\n",
    "passed_count = sum(\n",
    "    1 for name, marks in studnets\n",
    ")"
   ]
  },
  {
   "cell_type": "code",
   "execution_count": null,
   "id": "046fb4e6",
   "metadata": {},
   "outputs": [],
   "source": []
  }
 ],
 "metadata": {
  "kernelspec": {
   "display_name": "Python 3 (ipykernel)",
   "language": "python",
   "name": "python3"
  },
  "language_info": {
   "codemirror_mode": {
    "name": "ipython",
    "version": 3
   },
   "file_extension": ".py",
   "mimetype": "text/x-python",
   "name": "python",
   "nbconvert_exporter": "python",
   "pygments_lexer": "ipython3",
   "version": "3.10.9"
  }
 },
 "nbformat": 4,
 "nbformat_minor": 5
}
