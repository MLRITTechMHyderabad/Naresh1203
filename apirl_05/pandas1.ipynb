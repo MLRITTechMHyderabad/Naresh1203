{
 "cells": [
  {
   "cell_type": "code",
   "execution_count": 1,
   "id": "a30c52c8",
   "metadata": {},
   "outputs": [
    {
     "name": "stdout",
     "output_type": "stream",
     "text": [
      "     name city  salary\n",
      "0  sairaj  wgl       4\n",
      "          name city\n",
      "salary             \n",
      "3          Ram  vzg\n",
      "4       sairaj  wgl\n",
      "5       naresh  kmm\n",
      "      city salary\n",
      "     count    max\n",
      "city             \n",
      "kmm      1      5\n",
      "vzg      1      3\n",
      "wgl      1      4\n"
     ]
    }
   ],
   "source": [
    "import pandas as pd\n",
    "\n",
    "\"\"\"d = [10, 20, 30, 40]\n",
    "\n",
    "s = pd.Series(d)\n",
    "\n",
    "print(s)\"\"\"\n",
    "\n",
    "\n",
    "di = {\n",
    "    \"name\": ['sairaj', 'naresh', 'Ram'],\n",
    "    \"city\": ['wgl', 'kmm', 'vzg'],\n",
    "}\n",
    "\n",
    "#to convert into data set we use pd.DataFrame\n",
    "df = pd.DataFrame(di, columns = [\"name\", \"city\"])\n",
    "\n",
    "#to add new element into list\n",
    "df[\"salary\"] = [4, 5, 3]\n",
    "\n",
    "\n",
    "#conditions to remove and fetch data\n",
    "op = df[(df['city'] == \"wgl\") ]\n",
    "print(op)\n",
    "\n",
    "#using groupby\n",
    "g = df.groupby('salary').sum()\n",
    "print(g)\n",
    "g = df.groupby('city').agg({'city':['count'], 'salary':['max']})\n",
    "print(g)"
   ]
  },
  {
   "cell_type": "code",
   "execution_count": null,
   "id": "c5c7075d",
   "metadata": {},
   "outputs": [],
   "source": []
  }
 ],
 "metadata": {
  "kernelspec": {
   "display_name": "Python 3 (ipykernel)",
   "language": "python",
   "name": "python3"
  },
  "language_info": {
   "codemirror_mode": {
    "name": "ipython",
    "version": 3
   },
   "file_extension": ".py",
   "mimetype": "text/x-python",
   "name": "python",
   "nbconvert_exporter": "python",
   "pygments_lexer": "ipython3",
   "version": "3.10.9"
  }
 },
 "nbformat": 4,
 "nbformat_minor": 5
}
