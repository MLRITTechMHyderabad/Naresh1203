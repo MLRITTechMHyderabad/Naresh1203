{
 "cells": [
  {
   "cell_type": "code",
   "execution_count": 1,
   "id": "bb4d0350",
   "metadata": {},
   "outputs": [
    {
     "name": "stdout",
     "output_type": "stream",
     "text": [
      "support@example.com\n",
      "john.doe123@company.org\n",
      "jane_doe@domain.co.uk\n"
     ]
    }
   ],
   "source": [
    "\"\"\"Problem 1: Extract Valid Email Addresses\n",
    "Description:\n",
    "Write a Python program to extract all valid email addresses from a given text.\n",
    "An email is considered valid if it follows this pattern: - Starts with alphanumeric\n",
    "characters ([a-zA-Z0-9]) - May contain periods (.), underscores (_), or hyphens (-)\n",
    "before the @ - Must contain an @ symbol - Domain name contains alphanumeric\n",
    "characters, possibly hyphens (-) - Ends with a valid top-level domain (e.g., .com, .org,\n",
    ".net, .edu, etc.)\n",
    "Example Input:\n",
    "text = \"Contact us at support@example.com, john.doe123@company.org, or\n",
    "invalid-email@com. Also, try jane_doe@domain.co.uk.\"\n",
    "Expected Output:\n",
    "['support@example.com', 'john.doe123@company.org', 'jane_doe@domain.co.uk']\"\"\"\n",
    "\n",
    "import re\n",
    "\n",
    "valid_email = r\"^[a-z0-9._]+@[a-z0-9.]+\\.[a-z]{2,}$\"\n",
    "\n",
    "emails = \"Contact us at support@example.com, john.doe123@company.org, invalid-email@com. Also, try jane_doe@domain.co.uk\"\n",
    "\n",
    "valid_emails_are = re.findall(r\"[a-z0-9._%]+@[a-z0-9.]+\\.[a-z]{2,}\", emails)\n",
    "\n",
    "for email in valid_emails_are:\n",
    "    if re.match(valid_email, email):\n",
    "        print(email)\n",
    "    else:\n",
    "        print(\"no mails found\")"
   ]
  },
  {
   "cell_type": "code",
   "execution_count": null,
   "id": "7280dc45",
   "metadata": {},
   "outputs": [],
   "source": []
  }
 ],
 "metadata": {
  "kernelspec": {
   "display_name": "Python 3 (ipykernel)",
   "language": "python",
   "name": "python3"
  },
  "language_info": {
   "codemirror_mode": {
    "name": "ipython",
    "version": 3
   },
   "file_extension": ".py",
   "mimetype": "text/x-python",
   "name": "python",
   "nbconvert_exporter": "python",
   "pygments_lexer": "ipython3",
   "version": "3.10.9"
  }
 },
 "nbformat": 4,
 "nbformat_minor": 5
}
