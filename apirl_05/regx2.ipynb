{
 "cells": [
  {
   "cell_type": "code",
   "execution_count": 1,
   "id": "24da9d5b",
   "metadata": {},
   "outputs": [
    {
     "name": "stdout",
     "output_type": "stream",
     "text": [
      "#Python\n",
      "#coding\n",
      "#100DaysOfCode\n",
      "#Regex_Challenge\n"
     ]
    }
   ],
   "source": [
    "\"\"\"Problem 2: Extract Hashtags from a Tweet\n",
    "Description:\n",
    "Write a Python program to extract all hashtags (#hashtag) from a given text.\n",
    "- A hashtag: - Starts with # - Followed by letters, numbers, or underscores (_) - Cannot\n",
    "contain spaces or special characters (@, !, $, etc.)\n",
    "Example Input:\n",
    "tweet = \"Learning #Python is fun! #coding #100DaysOfCode #Regex_Challenge\"\n",
    "Expected Output:\n",
    "['#Python', '#coding', '#100DaysOfCode', '#Regex_Challenge']\"\"\"\n",
    "\n",
    "\n",
    "import re\n",
    "\n",
    "expression = r\"#[a-zA-Z0-9_]+[a-zA-Z0-9]\"\n",
    "\n",
    "tweet = \"Learning #Python is fun! #coding #100DaysOfCode #Regex_Challenge\"\n",
    "\n",
    "condition = re.findall(expression, tweet)\n",
    "\n",
    "for hashtags in condition:\n",
    "    if re.match(expression, hashtags):\n",
    "        print(hashtags)\n",
    "    else:\n",
    "        print(\"no hashtags found!!!\")"
   ]
  },
  {
   "cell_type": "code",
   "execution_count": null,
   "id": "7e3c5762",
   "metadata": {},
   "outputs": [],
   "source": []
  }
 ],
 "metadata": {
  "kernelspec": {
   "display_name": "Python 3 (ipykernel)",
   "language": "python",
   "name": "python3"
  },
  "language_info": {
   "codemirror_mode": {
    "name": "ipython",
    "version": 3
   },
   "file_extension": ".py",
   "mimetype": "text/x-python",
   "name": "python",
   "nbconvert_exporter": "python",
   "pygments_lexer": "ipython3",
   "version": "3.10.9"
  }
 },
 "nbformat": 4,
 "nbformat_minor": 5
}
