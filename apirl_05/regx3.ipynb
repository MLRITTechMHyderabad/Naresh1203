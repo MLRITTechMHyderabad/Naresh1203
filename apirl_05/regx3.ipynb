{
 "cells": [
  {
   "cell_type": "code",
   "execution_count": 1,
   "id": "2aa36a8b",
   "metadata": {},
   "outputs": [
    {
     "name": "stdout",
     "output_type": "stream",
     "text": [
      "WeakPass -> Invalid\n",
      "Str0ng@Pass -> Valid\n",
      "NoSpecial1 -> Invalid\n",
      "short!1 -> Invalid\n",
      "Secure#123 -> Invalid\n"
     ]
    }
   ],
   "source": [
    "\"\"\"Problem 3: Validate a Strong Password\n",
    "Description:\n",
    "Write a Python program to check if a password is strong based on these rules:\n",
    "\n",
    "1. At least 8 characters long\n",
    "2. Contains at least one uppercase letter (A-Z)\n",
    "3. Contains at least one lowercase letter (a-z)\n",
    "4. Contains at least one digit (0-9)\n",
    "5. Contains at least one special character (@, $, !, %, *, ?, &)\n",
    "\n",
    "Example Inputs & Outputs:\n",
    "passwords = [\"WeakPass\", \"Str0ng@Pass\", \"NoSpecial1\", \"short!1\",\n",
    "\"Secure#123\"]\n",
    "Expected Output:\n",
    "WeakPass -> Invalid\n",
    "Str0ng@Pass -> Valid\n",
    "NoSpecial1 -> Invalid\n",
    "short!1 -> Invalid\n",
    "Secure#123 -> Valid\"\"\"\n",
    "\n",
    "import re\n",
    "\n",
    "#pattern = r\"^(?=.*[A-Z])(?=.*[a-z])(?=.*[0-9])(?=.*[@$!%*?&])[A-Za-z0-9@$!%*?&]{8,}$\"\n",
    "\n",
    "pattern = r\"^(?=.*[A-Z])(?=.*[a-z])(?=.*\\d)(?=.*[@$!%*?&]).{8,}$\"\n",
    "\n",
    "\n",
    "passwords = [\"WeakPass\", \"Str0ng@Pass\", \"NoSpecial1\", \"short!1\", \"Secure#123\"]\n",
    "\n",
    "for password in passwords:\n",
    "    if re.match(pattern, password):\n",
    "        print(f\"{password} -> Valid\")\n",
    "    else:\n",
    "        print(f\"{password} -> Invalid\")"
   ]
  },
  {
   "cell_type": "code",
   "execution_count": null,
   "id": "3f154049",
   "metadata": {},
   "outputs": [],
   "source": []
  }
 ],
 "metadata": {
  "kernelspec": {
   "display_name": "Python 3 (ipykernel)",
   "language": "python",
   "name": "python3"
  },
  "language_info": {
   "codemirror_mode": {
    "name": "ipython",
    "version": 3
   },
   "file_extension": ".py",
   "mimetype": "text/x-python",
   "name": "python",
   "nbconvert_exporter": "python",
   "pygments_lexer": "ipython3",
   "version": "3.10.9"
  }
 },
 "nbformat": 4,
 "nbformat_minor": 5
}
